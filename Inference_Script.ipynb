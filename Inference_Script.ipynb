{
  "cells": [
    {
      "cell_type": "markdown",
      "metadata": {
        "id": "view-in-github",
        "colab_type": "text"
      },
      "source": [
        "<a href=\"https://colab.research.google.com/github/AntonioVispi/Recursive_Segmentation/blob/main/Inference_Script.ipynb\" target=\"_parent\"><img src=\"https://colab.research.google.com/assets/colab-badge.svg\" alt=\"Open In Colab\"/></a>"
      ]
    },
    {
      "cell_type": "code",
      "execution_count": null,
      "metadata": {
        "id": "FIf8Tjv3tnXw"
      },
      "outputs": [],
      "source": [
        "!pip install -U -q segmentation-models\n",
        "!pip install tensorflow==2.9.3\n",
        "!pip install h5py==2.10.0\n",
        "!pip install plotly==5.3.1"
      ]
    },
    {
      "cell_type": "code",
      "execution_count": null,
      "metadata": {
        "id": "JQPev1WXtnPd"
      },
      "outputs": [],
      "source": [
        "from google.colab import drive\n",
        "drive.mount('/content/drive')"
      ]
    },
    {
      "cell_type": "code",
      "execution_count": null,
      "metadata": {
        "id": "Iyseq5SDtnGN"
      },
      "outputs": [],
      "source": [
        "import numpy as np\n",
        "import os\n",
        "\n",
        "import nibabel as nib\n",
        "import tensorflow as tf\n",
        "\n",
        "import matplotlib.pyplot as plt\n",
        "from matplotlib import pyplot as plt\n",
        "from tqdm import tqdm\n",
        "\n",
        "import skimage\n",
        "from skimage.io import imread, imshow, imsave\n",
        "from skimage.transform import resize\n",
        "\n",
        "from tensorflow import keras\n",
        "from keras.callbacks import ModelCheckpoint\n",
        "from keras.callbacks import CSVLogger\n",
        "from keras.callbacks import EarlyStopping\n",
        "from keras.utils.np_utils import to_categorical\n",
        "from keras.preprocessing.image import ImageDataGenerator\n",
        "from keras.models import load_model\n",
        "from keras import metrics\n",
        "from keras.callbacks import ReduceLROnPlateau\n",
        "\n",
        "from segmentation_models import Unet\n",
        "import math\n",
        "from math import floor\n",
        "\n",
        "import random\n",
        "from random import seed\n",
        "from random import random"
      ]
    },
    {
      "cell_type": "code",
      "execution_count": null,
      "metadata": {
        "id": "46kTrbCQVNI8"
      },
      "outputs": [],
      "source": [
        "def visualizer(segm, IMG_HEIGHT, IMG_WIDTH):     #Function useful for displaying segmentations\n",
        "\n",
        "   segm = resize(segm,(IMG_HEIGHT,IMG_WIDTH,4), mode='constant', preserve_range=True)\n",
        "\n",
        "   back = segm[:,:,0]\n",
        "   kid = segm[:,:,1]\n",
        "   tum = segm[:,:,2]\n",
        "   cys = segm[:,:,3]\n",
        "\n",
        "   back = (back == 1)\n",
        "   kid = (kid == 1)\n",
        "   tum = (tum == 1)\n",
        "   cys = (cys == 1)\n",
        "\n",
        "   all_segments = np.zeros((IMG_HEIGHT, IMG_WIDTH, 3))\n",
        "\n",
        "   all_segments[back] = (1,0,0)\n",
        "   all_segments[kid] = (0,1,0)\n",
        "   all_segments[tum] = (0,0,1)\n",
        "   all_segments[cys] = (1,1,0)\n",
        "\n",
        "   return all_segments\n",
        "\n",
        "\n",
        "def Test(dataset_path, model_path, output_path, view_dataset, save_prediction):\n",
        "\n",
        "    IMG_HEIGHT= 512\n",
        "    IMG_WIDTH= 512\n",
        "    IMG_CHANNELS = 3\n",
        "    NUM_CLASSES = 4\n",
        "\n",
        "    model = load_model(model_path,custom_objects=None, compile=False)\n",
        "\n",
        "    j=0\n",
        "\n",
        "    directory = os.listdir(dataset_path)\n",
        "    directory.sort()\n",
        "\n",
        "    for n in range (0,len(directory)):\n",
        "\n",
        "        case_path = dataset_path +'/'+ directory[n]\n",
        "        volume = nib.load(os.path.join(case_path))\n",
        "        mask_affine = volume.affine\n",
        "\n",
        "        print(volume.shape)\n",
        "        n_slice,height,width = volume.shape\n",
        "        X = np.zeros([n_slice, IMG_HEIGHT, IMG_WIDTH,IMG_CHANNELS], dtype=np.uint8)\n",
        "        Y_automatic=np.zeros([n_slice, IMG_HEIGHT, IMG_WIDTH], dtype=np.uint8)\n",
        "\n",
        "        volume = volume.slicer[0 : n_slice]\n",
        "\n",
        "\n",
        "        Y_manual_stock=np.zeros([n_slice, IMG_HEIGHT, IMG_WIDTH, NUM_CLASSES], dtype=np.float32)\n",
        "\n",
        "\n",
        "        Vol_supporto= volume.get_fdata().astype(np.int16)\n",
        "\n",
        "\n",
        "        for k in range(0,n_slice):\n",
        "          image=resize(Vol_supporto[k,:,:], (IMG_HEIGHT,IMG_WIDTH,1), mode='constant', preserve_range=True)\n",
        "          X[k,:,:,:]=image\n",
        "\n",
        "\n",
        "          support = np.reshape(X[k,:,:,:],(1,IMG_HEIGHT,IMG_WIDTH,IMG_CHANNELS))\n",
        "          softmax = model.predict(support)\n",
        "          softmax = np.reshape(softmax,(IMG_HEIGHT,IMG_WIDTH,NUM_CLASSES))\n",
        "\n",
        "          softmax=np.argmax(softmax,axis=2).astype(np.uint8)\n",
        "\n",
        "          Y_automatic[k,:,:]=softmax\n",
        "\n",
        "        if save_prediction == 'on':\n",
        "\n",
        "          os.makedirs(output_path, exist_ok = True)\n",
        "          Y_automatic_nii = nib.Nifti1Image(Y_automatic, affine=mask_affine)\n",
        "          nib.save(Y_automatic_nii, output_path + '/' + directory[n])\n",
        "          print('Subject saved successfully')\n",
        "\n",
        "    if view_dataset == 'on':\n",
        "      for n in range(0,X.shape[0]):\n",
        "        fig = plt.figure(figsize=(10, 10))\n",
        "        ax1 = fig.add_subplot(121)\n",
        "        ax1.imshow(X[n,:,:,:]), ax1.set_title('TAC Image')\n",
        "\n",
        "        ax2= fig.add_subplot(122)\n",
        "        support = to_categorical(Y_automatic[n,:,:], num_classes=NUM_CLASSES, dtype='float32')\n",
        "        ax2.imshow(visualizer(support,IMG_HEIGHT,IMG_WIDTH)), ax2.set_title('Automatic Segmentation')\n",
        "\n",
        "\n"
      ]
    },
    {
      "cell_type": "code",
      "execution_count": null,
      "metadata": {
        "id": "opGKteN_feeH"
      },
      "outputs": [],
      "source": [
        "dataset_path = '/content/drive/your_dataset_path'\n",
        "model_path='/content/drive/output_training_path/Epoch_15-Val_Loss0.00022.h5'\n",
        "output_path = '/content/drive/output_training_path'"
      ]
    },
    {
      "cell_type": "markdown",
      "source": [
        "```\n",
        "Test(dataset_path, model_path, output_path, view_dataset, save_prediction)\n",
        "\n",
        "```\n",
        "*   If you want to see the predictions: view_dataset = 'on'\n",
        "*   If you want to save the predictions in output_path: save_prediction = 'on'"
      ],
      "metadata": {
        "id": "giqAqStDHdQP"
      }
    },
    {
      "cell_type": "code",
      "execution_count": null,
      "metadata": {
        "id": "whSol1WAw-Rg"
      },
      "outputs": [],
      "source": [
        "Test(dataset_path, model_path, output_path, 'off', 'on')"
      ]
    }
  ],
  "metadata": {
    "accelerator": "GPU",
    "colab": {
      "machine_shape": "hm",
      "provenance": [],
      "include_colab_link": true
    },
    "kernelspec": {
      "display_name": "Python 3",
      "name": "python3"
    },
    "language_info": {
      "name": "python"
    }
  },
  "nbformat": 4,
  "nbformat_minor": 0
}